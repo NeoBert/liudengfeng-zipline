{
 "metadata": {
  "language_info": {
   "codemirror_mode": {
    "name": "ipython",
    "version": 3
   },
   "file_extension": ".py",
   "mimetype": "text/x-python",
   "name": "python",
   "nbconvert_exporter": "python",
   "pygments_lexer": "ipython3",
   "version": "3.8.5-final"
  },
  "orig_nbformat": 2,
  "kernelspec": {
   "name": "python_defaultSpec_1599116868077",
   "display_name": "Python 3.8.5 64-bit ('zipline': conda)"
  }
 },
 "nbformat": 4,
 "nbformat_minor": 2,
 "cells": [
  {
   "cell_type": "markdown",
   "metadata": {},
   "source": [
    "将美股测试数据转换为A股日历"
   ]
  },
  {
   "cell_type": "code",
   "execution_count": 1,
   "metadata": {},
   "outputs": [],
   "source": [
    "import pandas as pd\n",
    "from zipline.testing import test_resource_path"
   ]
  },
  {
   "cell_type": "code",
   "execution_count": 2,
   "metadata": {},
   "outputs": [],
   "source": [
    "asset_start = pd.Timestamp('2012-01-03', tz='utc')\n",
    "asset_end = pd.Timestamp('2014-12-31', tz='utc')"
   ]
  },
  {
   "cell_type": "code",
   "execution_count": 3,
   "metadata": {},
   "outputs": [],
   "source": [
    "symbols = 'AAPL', 'IBM', 'KO', 'MSFT'"
   ]
  },
  {
   "cell_type": "code",
   "execution_count": 4,
   "metadata": {},
   "outputs": [],
   "source": [
    "def per_symbol(symbol):\n",
    "    df = pd.read_csv(\n",
    "        test_resource_path('csvdir_samples', 'csvdir',\n",
    "                            'daily', symbol + '.csv.gz'),\n",
    "        parse_dates=['date'],\n",
    "        index_col='date',\n",
    "        # usecols=[\n",
    "        #     'open',\n",
    "        #     'high',\n",
    "        #     'low',\n",
    "        #     'close',\n",
    "        #     'volume',\n",
    "        #     'date',\n",
    "        #     'dividend',\n",
    "        #     'split',\n",
    "        # ],\n",
    "        na_values=['NA'],\n",
    "    )\n",
    "    # df.index.name = 'date'\n",
    "    print(df.columns)\n",
    "    return df"
   ]
  },
  {
   "cell_type": "code",
   "execution_count": 5,
   "metadata": {},
   "outputs": [],
   "source": [
    "from trading_calendars import get_calendar"
   ]
  },
  {
   "cell_type": "code",
   "execution_count": 6,
   "metadata": {},
   "outputs": [],
   "source": [
    "calendar = get_calendar('XSHG')"
   ]
  },
  {
   "cell_type": "code",
   "execution_count": 7,
   "metadata": {},
   "outputs": [],
   "source": [
    "cn_index = calendar.sessions_in_range(asset_start, asset_end)"
   ]
  },
  {
   "cell_type": "code",
   "execution_count": 8,
   "metadata": {},
   "outputs": [
    {
     "output_type": "execute_result",
     "data": {
      "text/plain": "726"
     },
     "metadata": {},
     "execution_count": 8
    }
   ],
   "source": [
    "len(cn_index)"
   ]
  },
  {
   "cell_type": "code",
   "execution_count": 9,
   "metadata": {},
   "outputs": [],
   "source": [
    "OHLCV = ['open', 'close','high','low','volume']"
   ]
  },
  {
   "cell_type": "code",
   "execution_count": 10,
   "metadata": {
    "tags": []
   },
   "outputs": [
    {
     "output_type": "stream",
     "name": "stdout",
     "text": "Index(['open', 'high', 'low', 'close', 'volume', 'dividend', 'split'], dtype='object')\nIndex(['open', 'high', 'low', 'close', 'volume', 'dividend', 'split'], dtype='object')\nIndex(['open', 'high', 'low', 'close', 'volume', 'dividend', 'split'], dtype='object')\nIndex(['open', 'high', 'low', 'close', 'volume', 'dividend', 'split'], dtype='object')\n"
    }
   ],
   "source": [
    "for symbol in symbols:\n",
    "    df = per_symbol(symbol)\n",
    "    cn_df = df.reindex(cn_index.tz_localize(None))\n",
    "    # print(len(cn_df))\n",
    "    cn_df.loc[:, OHLCV].fillna(method='ffill', inplace=True)\n",
    "    cn_df.fillna(0.0, inplace=True)\n",
    "    # cn_df.reset_index(inplace=True)\n",
    "    # cn_df.rename(columns={'index':'date'}, inplace=True)\n",
    "    target = test_resource_path('cn_stock', 'csvdir_samples', 'csvdir','daily', symbol + '.csv.gz')\n",
    "    cn_df.to_csv(target,index_label='date')"
   ]
  },
  {
   "cell_type": "code",
   "execution_count": 11,
   "metadata": {},
   "outputs": [
    {
     "output_type": "execute_result",
     "data": {
      "text/plain": "                 open       high        low      close      volume  dividend  \\\n2012-01-04  26.820000  27.469999  26.780001  27.400000  80516100.0       0.0   \n2012-01-05  27.379999  27.730000  27.290001  27.680000  56081400.0       0.0   \n2012-01-06  27.530001  28.190001  27.530001  28.110001  99455500.0       0.0   \n2012-01-09  28.049999  28.100000  27.719999  27.740000  59706800.0       0.0   \n2012-01-10  27.930000  28.150000  27.750000  27.840000  60014400.0       0.0   \n...               ...        ...        ...        ...         ...       ...   \n2014-12-25   0.000000   0.000000   0.000000   0.000000         0.0       0.0   \n2014-12-26  48.410000  48.410000  47.820000  47.880001  13197800.0       0.0   \n2014-12-29  47.700001  47.779999  47.259998  47.450001  14439500.0       0.0   \n2014-12-30  47.439999  47.619999  46.840000  47.020000  16384700.0       0.0   \n2014-12-31  46.730000  47.439999  46.450001  46.450001  21552500.0       0.0   \n\n            split  \n2012-01-04    1.0  \n2012-01-05    1.0  \n2012-01-06    1.0  \n2012-01-09    1.0  \n2012-01-10    1.0  \n...           ...  \n2014-12-25    0.0  \n2014-12-26    1.0  \n2014-12-29    1.0  \n2014-12-30    1.0  \n2014-12-31    1.0  \n\n[726 rows x 7 columns]",
      "text/html": "<div>\n<style scoped>\n    .dataframe tbody tr th:only-of-type {\n        vertical-align: middle;\n    }\n\n    .dataframe tbody tr th {\n        vertical-align: top;\n    }\n\n    .dataframe thead th {\n        text-align: right;\n    }\n</style>\n<table border=\"1\" class=\"dataframe\">\n  <thead>\n    <tr style=\"text-align: right;\">\n      <th></th>\n      <th>open</th>\n      <th>high</th>\n      <th>low</th>\n      <th>close</th>\n      <th>volume</th>\n      <th>dividend</th>\n      <th>split</th>\n    </tr>\n  </thead>\n  <tbody>\n    <tr>\n      <th>2012-01-04</th>\n      <td>26.820000</td>\n      <td>27.469999</td>\n      <td>26.780001</td>\n      <td>27.400000</td>\n      <td>80516100.0</td>\n      <td>0.0</td>\n      <td>1.0</td>\n    </tr>\n    <tr>\n      <th>2012-01-05</th>\n      <td>27.379999</td>\n      <td>27.730000</td>\n      <td>27.290001</td>\n      <td>27.680000</td>\n      <td>56081400.0</td>\n      <td>0.0</td>\n      <td>1.0</td>\n    </tr>\n    <tr>\n      <th>2012-01-06</th>\n      <td>27.530001</td>\n      <td>28.190001</td>\n      <td>27.530001</td>\n      <td>28.110001</td>\n      <td>99455500.0</td>\n      <td>0.0</td>\n      <td>1.0</td>\n    </tr>\n    <tr>\n      <th>2012-01-09</th>\n      <td>28.049999</td>\n      <td>28.100000</td>\n      <td>27.719999</td>\n      <td>27.740000</td>\n      <td>59706800.0</td>\n      <td>0.0</td>\n      <td>1.0</td>\n    </tr>\n    <tr>\n      <th>2012-01-10</th>\n      <td>27.930000</td>\n      <td>28.150000</td>\n      <td>27.750000</td>\n      <td>27.840000</td>\n      <td>60014400.0</td>\n      <td>0.0</td>\n      <td>1.0</td>\n    </tr>\n    <tr>\n      <th>...</th>\n      <td>...</td>\n      <td>...</td>\n      <td>...</td>\n      <td>...</td>\n      <td>...</td>\n      <td>...</td>\n      <td>...</td>\n    </tr>\n    <tr>\n      <th>2014-12-25</th>\n      <td>0.000000</td>\n      <td>0.000000</td>\n      <td>0.000000</td>\n      <td>0.000000</td>\n      <td>0.0</td>\n      <td>0.0</td>\n      <td>0.0</td>\n    </tr>\n    <tr>\n      <th>2014-12-26</th>\n      <td>48.410000</td>\n      <td>48.410000</td>\n      <td>47.820000</td>\n      <td>47.880001</td>\n      <td>13197800.0</td>\n      <td>0.0</td>\n      <td>1.0</td>\n    </tr>\n    <tr>\n      <th>2014-12-29</th>\n      <td>47.700001</td>\n      <td>47.779999</td>\n      <td>47.259998</td>\n      <td>47.450001</td>\n      <td>14439500.0</td>\n      <td>0.0</td>\n      <td>1.0</td>\n    </tr>\n    <tr>\n      <th>2014-12-30</th>\n      <td>47.439999</td>\n      <td>47.619999</td>\n      <td>46.840000</td>\n      <td>47.020000</td>\n      <td>16384700.0</td>\n      <td>0.0</td>\n      <td>1.0</td>\n    </tr>\n    <tr>\n      <th>2014-12-31</th>\n      <td>46.730000</td>\n      <td>47.439999</td>\n      <td>46.450001</td>\n      <td>46.450001</td>\n      <td>21552500.0</td>\n      <td>0.0</td>\n      <td>1.0</td>\n    </tr>\n  </tbody>\n</table>\n<p>726 rows × 7 columns</p>\n</div>"
     },
     "metadata": {},
     "execution_count": 11
    }
   ],
   "source": [
    "cn_df"
   ]
  },
  {
   "cell_type": "code",
   "execution_count": 12,
   "metadata": {},
   "outputs": [],
   "source": [
    "df = pd.read_csv(\n",
    "    target,\n",
    "    parse_dates=['date'],\n",
    "    index_col='date',\n",
    "    usecols=[\n",
    "        'open',\n",
    "        'high',\n",
    "        'low',\n",
    "        'close',\n",
    "        'volume',\n",
    "        'date',\n",
    "        'dividend',\n",
    "        'split',\n",
    "    ],\n",
    "    na_values=['NA'],\n",
    ")"
   ]
  },
  {
   "cell_type": "code",
   "execution_count": 13,
   "metadata": {},
   "outputs": [
    {
     "output_type": "execute_result",
     "data": {
      "text/plain": "                 open       high        low      close      volume  dividend  \\\ndate                                                                           \n2012-01-04  26.820000  27.469999  26.780001  27.400000  80516100.0       0.0   \n2012-01-05  27.379999  27.730000  27.290001  27.680000  56081400.0       0.0   \n2012-01-06  27.530001  28.190001  27.530001  28.110001  99455500.0       0.0   \n2012-01-09  28.049999  28.100000  27.719999  27.740000  59706800.0       0.0   \n2012-01-10  27.930000  28.150000  27.750000  27.840000  60014400.0       0.0   \n...               ...        ...        ...        ...         ...       ...   \n2014-12-25   0.000000   0.000000   0.000000   0.000000         0.0       0.0   \n2014-12-26  48.410000  48.410000  47.820000  47.880001  13197800.0       0.0   \n2014-12-29  47.700001  47.779999  47.259998  47.450001  14439500.0       0.0   \n2014-12-30  47.439999  47.619999  46.840000  47.020000  16384700.0       0.0   \n2014-12-31  46.730000  47.439999  46.450001  46.450001  21552500.0       0.0   \n\n            split  \ndate               \n2012-01-04    1.0  \n2012-01-05    1.0  \n2012-01-06    1.0  \n2012-01-09    1.0  \n2012-01-10    1.0  \n...           ...  \n2014-12-25    0.0  \n2014-12-26    1.0  \n2014-12-29    1.0  \n2014-12-30    1.0  \n2014-12-31    1.0  \n\n[726 rows x 7 columns]",
      "text/html": "<div>\n<style scoped>\n    .dataframe tbody tr th:only-of-type {\n        vertical-align: middle;\n    }\n\n    .dataframe tbody tr th {\n        vertical-align: top;\n    }\n\n    .dataframe thead th {\n        text-align: right;\n    }\n</style>\n<table border=\"1\" class=\"dataframe\">\n  <thead>\n    <tr style=\"text-align: right;\">\n      <th></th>\n      <th>open</th>\n      <th>high</th>\n      <th>low</th>\n      <th>close</th>\n      <th>volume</th>\n      <th>dividend</th>\n      <th>split</th>\n    </tr>\n    <tr>\n      <th>date</th>\n      <th></th>\n      <th></th>\n      <th></th>\n      <th></th>\n      <th></th>\n      <th></th>\n      <th></th>\n    </tr>\n  </thead>\n  <tbody>\n    <tr>\n      <th>2012-01-04</th>\n      <td>26.820000</td>\n      <td>27.469999</td>\n      <td>26.780001</td>\n      <td>27.400000</td>\n      <td>80516100.0</td>\n      <td>0.0</td>\n      <td>1.0</td>\n    </tr>\n    <tr>\n      <th>2012-01-05</th>\n      <td>27.379999</td>\n      <td>27.730000</td>\n      <td>27.290001</td>\n      <td>27.680000</td>\n      <td>56081400.0</td>\n      <td>0.0</td>\n      <td>1.0</td>\n    </tr>\n    <tr>\n      <th>2012-01-06</th>\n      <td>27.530001</td>\n      <td>28.190001</td>\n      <td>27.530001</td>\n      <td>28.110001</td>\n      <td>99455500.0</td>\n      <td>0.0</td>\n      <td>1.0</td>\n    </tr>\n    <tr>\n      <th>2012-01-09</th>\n      <td>28.049999</td>\n      <td>28.100000</td>\n      <td>27.719999</td>\n      <td>27.740000</td>\n      <td>59706800.0</td>\n      <td>0.0</td>\n      <td>1.0</td>\n    </tr>\n    <tr>\n      <th>2012-01-10</th>\n      <td>27.930000</td>\n      <td>28.150000</td>\n      <td>27.750000</td>\n      <td>27.840000</td>\n      <td>60014400.0</td>\n      <td>0.0</td>\n      <td>1.0</td>\n    </tr>\n    <tr>\n      <th>...</th>\n      <td>...</td>\n      <td>...</td>\n      <td>...</td>\n      <td>...</td>\n      <td>...</td>\n      <td>...</td>\n      <td>...</td>\n    </tr>\n    <tr>\n      <th>2014-12-25</th>\n      <td>0.000000</td>\n      <td>0.000000</td>\n      <td>0.000000</td>\n      <td>0.000000</td>\n      <td>0.0</td>\n      <td>0.0</td>\n      <td>0.0</td>\n    </tr>\n    <tr>\n      <th>2014-12-26</th>\n      <td>48.410000</td>\n      <td>48.410000</td>\n      <td>47.820000</td>\n      <td>47.880001</td>\n      <td>13197800.0</td>\n      <td>0.0</td>\n      <td>1.0</td>\n    </tr>\n    <tr>\n      <th>2014-12-29</th>\n      <td>47.700001</td>\n      <td>47.779999</td>\n      <td>47.259998</td>\n      <td>47.450001</td>\n      <td>14439500.0</td>\n      <td>0.0</td>\n      <td>1.0</td>\n    </tr>\n    <tr>\n      <th>2014-12-30</th>\n      <td>47.439999</td>\n      <td>47.619999</td>\n      <td>46.840000</td>\n      <td>47.020000</td>\n      <td>16384700.0</td>\n      <td>0.0</td>\n      <td>1.0</td>\n    </tr>\n    <tr>\n      <th>2014-12-31</th>\n      <td>46.730000</td>\n      <td>47.439999</td>\n      <td>46.450001</td>\n      <td>46.450001</td>\n      <td>21552500.0</td>\n      <td>0.0</td>\n      <td>1.0</td>\n    </tr>\n  </tbody>\n</table>\n<p>726 rows × 7 columns</p>\n</div>"
     },
     "metadata": {},
     "execution_count": 13
    }
   ],
   "source": [
    "df"
   ]
  }
 ]
}