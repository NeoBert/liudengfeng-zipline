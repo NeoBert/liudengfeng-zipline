{
 "nbformat": 4,
 "nbformat_minor": 2,
 "metadata": {
  "language_info": {
   "name": "python",
   "codemirror_mode": {
    "name": "ipython",
    "version": 3
   },
   "version": "3.7.5-final"
  },
  "orig_nbformat": 2,
  "file_extension": ".py",
  "mimetype": "text/x-python",
  "name": "python",
  "npconvert_exporter": "python",
  "pygments_lexer": "ipython3",
  "version": 3,
  "kernelspec": {
   "name": "python37564bitziplineconda4bfb0bf7e23746d88a070afd67e11469",
   "display_name": "Python 3.7.5 64-bit ('zipline': conda)"
  }
 },
 "cells": [
  {
   "cell_type": "markdown",
   "execution_count": null,
   "metadata": {},
   "outputs": [],
   "source": [
    "## 使用定时函数"
   ]
  },
  {
   "cell_type": "code",
   "execution_count": 1,
   "metadata": {},
   "outputs": [],
   "source": [
    "%load_ext zipline"
   ]
  },
  {
   "cell_type": "code",
   "execution_count": 2,
   "metadata": {},
   "outputs": [
    {
     "name": "stderr",
     "output_type": "stream",
     "text": "[2020-01-11 21:06:22.922154] WARNING: Loader: Refusing to download new benchmark data because a download succeeded at 2020-01-11 12:57:59.334464788+00:00.\n[2020-01-11 21:06:22.944096] WARNING: Loader: Refusing to download new treasury data because a download succeeded at 2020-01-11 12:57:59.443169117+00:00.\n[2020-01-11 21:06:23.091701] INFO: zipline.finance.metrics.tracker: Simulated 2 trading days\nfirst open: 2020-01-02 01:31:00+00:00\nlast close: 2020-01-03 07:01:00+00:00\n"
    },
    {
     "data": {
      "text/html": "<div>\n<style scoped>\n    .dataframe tbody tr th:only-of-type {\n        vertical-align: middle;\n    }\n\n    .dataframe tbody tr th {\n        vertical-align: top;\n    }\n\n    .dataframe thead th {\n        text-align: right;\n    }\n</style>\n<table border=\"1\" class=\"dataframe\">\n  <thead>\n    <tr style=\"text-align: right;\">\n      <th></th>\n      <th>period_open</th>\n      <th>period_close</th>\n      <th>longs_count</th>\n      <th>shorts_count</th>\n      <th>long_value</th>\n      <th>short_value</th>\n      <th>pnl</th>\n      <th>capital_used</th>\n      <th>orders</th>\n      <th>long_exposure</th>\n      <th>...</th>\n      <th>benchmark_volatility</th>\n      <th>algorithm_period_return</th>\n      <th>alpha</th>\n      <th>beta</th>\n      <th>sharpe</th>\n      <th>sortino</th>\n      <th>max_drawdown</th>\n      <th>max_leverage</th>\n      <th>excess_return</th>\n      <th>treasury_period_return</th>\n    </tr>\n  </thead>\n  <tbody>\n    <tr>\n      <th>2020-01-02 07:01:00+00:00</th>\n      <td>2020-01-02 01:31:00+00:00</td>\n      <td>2020-01-02 07:01:00+00:00</td>\n      <td>0</td>\n      <td>0</td>\n      <td>0.0</td>\n      <td>0.0</td>\n      <td>0.0</td>\n      <td>0.0</td>\n      <td>[]</td>\n      <td>0.0</td>\n      <td>...</td>\n      <td>NaN</td>\n      <td>0.0</td>\n      <td>NaN</td>\n      <td>NaN</td>\n      <td>None</td>\n      <td>None</td>\n      <td>0.0</td>\n      <td>0.0</td>\n      <td>0.0</td>\n      <td>0.0</td>\n    </tr>\n    <tr>\n      <th>2020-01-03 07:01:00+00:00</th>\n      <td>2020-01-03 01:31:00+00:00</td>\n      <td>2020-01-03 07:01:00+00:00</td>\n      <td>0</td>\n      <td>0</td>\n      <td>0.0</td>\n      <td>0.0</td>\n      <td>0.0</td>\n      <td>0.0</td>\n      <td>[]</td>\n      <td>0.0</td>\n      <td>...</td>\n      <td>0.17218</td>\n      <td>0.0</td>\n      <td>0.0</td>\n      <td>0.0</td>\n      <td>None</td>\n      <td>None</td>\n      <td>0.0</td>\n      <td>0.0</td>\n      <td>0.0</td>\n      <td>0.0</td>\n    </tr>\n  </tbody>\n</table>\n<p>2 rows × 37 columns</p>\n</div>",
      "text/plain": "                                        period_open              period_close  \\\n2020-01-02 07:01:00+00:00 2020-01-02 01:31:00+00:00 2020-01-02 07:01:00+00:00   \n2020-01-03 07:01:00+00:00 2020-01-03 01:31:00+00:00 2020-01-03 07:01:00+00:00   \n\n                           longs_count  shorts_count  long_value  short_value  \\\n2020-01-02 07:01:00+00:00            0             0         0.0          0.0   \n2020-01-03 07:01:00+00:00            0             0         0.0          0.0   \n\n                           pnl  capital_used orders  long_exposure  ...  \\\n2020-01-02 07:01:00+00:00  0.0           0.0     []            0.0  ...   \n2020-01-03 07:01:00+00:00  0.0           0.0     []            0.0  ...   \n\n                          benchmark_volatility algorithm_period_return  alpha  \\\n2020-01-02 07:01:00+00:00                  NaN                     0.0    NaN   \n2020-01-03 07:01:00+00:00              0.17218                     0.0    0.0   \n\n                           beta  sharpe  sortino  max_drawdown  max_leverage  \\\n2020-01-02 07:01:00+00:00   NaN    None     None           0.0           0.0   \n2020-01-03 07:01:00+00:00   0.0    None     None           0.0           0.0   \n\n                           excess_return  treasury_period_return  \n2020-01-02 07:01:00+00:00            0.0                     0.0  \n2020-01-03 07:01:00+00:00            0.0                     0.0  \n\n[2 rows x 37 columns]"
     },
     "execution_count": 2,
     "metadata": {},
     "output_type": "execute_result"
    }
   ],
   "source": [
    "%%zipline --start 2020-1-2 --end 2020-1-3 --data-frequency minute -b cnminutely\n",
    "\n",
    "from zipline.api import (\n",
    "    schedule_function, get_datetime, time_rules, date_rules, calendars\n",
    ")\n",
    "from trading_calendars import get_calendar\n",
    "\n",
    "def initialize(context):\n",
    "    # CN market is usually open for 242 minutes.\n",
    "    # 上下午各2小时，共计触发 2 * 240 = 480\n",
    "    total_minutes = 121\n",
    "\n",
    "    for i in range(1, total_minutes):\n",
    "\n",
    "        schedule_function(\n",
    "            func=log_nyse_open,\n",
    "            date_rule=date_rules.every_day(),\n",
    "            time_rule=time_rules.market_open(minutes=i),\n",
    "            calendar=calendars.US_EQUITIES,\n",
    "        )\n",
    "        schedule_function(\n",
    "            func=log_nyse_open,\n",
    "            date_rule=date_rules.every_day(),\n",
    "            time_rule=time_rules.market_close(minutes=i),\n",
    "            calendar=calendars.US_EQUITIES,\n",
    "        )\n",
    "    context.triggers = []\n",
    "\n",
    "\n",
    "def log_nyse_open(context, data):\n",
    "    context.triggers.append(get_datetime())\n",
    "\n",
    "\n",
    "def analyze(context, perf):\n",
    "    assert len(context.triggers) == 480\n",
    "    # print(context.triggers)\n"
   ]
  }
 ]
}