{
 "cells": [
  {
   "cell_type": "markdown",
   "metadata": {},
   "source": [
    "第2-4课将在研究环境中进行。 要在Research中设置，请创建一个新`Notebook`。"
   ]
  },
  {
   "cell_type": "markdown",
   "metadata": {},
   "source": [
    "问题点：\n",
    "\n",
    "- symbols 输出格式，更改为tuple？\n",
    "- 测试 dataframe.xs"
   ]
  },
  {
   "cell_type": "code",
   "execution_count": null,
   "metadata": {
    "ExecuteTime": {
     "end_time": "2018-12-29T17:01:11.608844Z",
     "start_time": "2018-12-29T17:01:11.362322Z"
    }
   },
   "outputs": [],
   "source": [
    "%matplotlib inline"
   ]
  },
  {
   "cell_type": "markdown",
   "metadata": {},
   "source": [
    "# 数据探索"
   ]
  },
  {
   "cell_type": "markdown",
   "metadata": {},
   "source": [
    "Research从1991年到最近完成的交易日提供了函数来查询3000多个股票的定价，成交量和收益率数据。这些函数接收资产（或资产列表）以及开始和结束日期等参数，返回按日期索引的`pandas Series`（或`DataFrame`）。\n",
    "\n",
    "定义我们想要探索的时间段，并使用`returns`函数来查询MDJT('000333')的数据："
   ]
  },
  {
   "cell_type": "markdown",
   "metadata": {},
   "source": [
    "## 当天涨跌幅"
   ]
  },
  {
   "cell_type": "code",
   "execution_count": null,
   "metadata": {
    "ExecuteTime": {
     "end_time": "2018-12-29T17:01:17.063357Z",
     "start_time": "2018-12-29T17:01:14.224820Z"
    }
   },
   "outputs": [],
   "source": [
    "# Research environment functions\n",
    "from zipline.research import returns, symbols\n",
    "\n",
    "# Select a time range to inspect\n",
    "period_start = '2018-01-01'\n",
    "period_end = '2018-5-18'\n",
    "\n",
    "# Query returns data for AAPL\n",
    "# over the selected time range\n",
    "mdjt_returns = returns(\n",
    "    '000333',\n",
    "    start=period_start,\n",
    "    end=period_end,\n",
    ")\n",
    "\n",
    "# Display first 10 rows\n",
    "mdjt_returns.head(10)"
   ]
  },
  {
   "cell_type": "code",
   "execution_count": null,
   "metadata": {
    "ExecuteTime": {
     "end_time": "2018-12-29T17:06:13.344562Z",
     "start_time": "2018-12-29T17:06:13.240747Z"
    }
   },
   "outputs": [],
   "source": [
    "symbols('000333')"
   ]
  },
  {
   "cell_type": "code",
   "execution_count": null,
   "metadata": {
    "ExecuteTime": {
     "end_time": "2018-12-29T17:06:33.456359Z",
     "start_time": "2018-12-29T17:06:33.287987Z"
    }
   },
   "outputs": [],
   "source": [
    "symbols(['000333','600645'])"
   ]
  },
  {
   "cell_type": "markdown",
   "metadata": {},
   "source": [
    "## 设置`periods`值，查询多日涨跌幅"
   ]
  },
  {
   "cell_type": "code",
   "execution_count": null,
   "metadata": {
    "ExecuteTime": {
     "end_time": "2018-12-29T17:01:22.046562Z",
     "start_time": "2018-12-29T17:01:21.840220Z"
    }
   },
   "outputs": [],
   "source": [
    "mdjt_returns = returns(\n",
    "    ['000333'],\n",
    "    start=period_start,\n",
    "    end=period_end,\n",
    "    periods=2,\n",
    ")\n",
    "\n",
    "# Display first 10 rows\n",
    "mdjt_returns.head(10)"
   ]
  },
  {
   "cell_type": "markdown",
   "metadata": {},
   "source": [
    "## 多只股票"
   ]
  },
  {
   "cell_type": "code",
   "execution_count": null,
   "metadata": {
    "ExecuteTime": {
     "end_time": "2018-12-29T17:03:37.609244Z",
     "start_time": "2018-12-29T17:03:37.362507Z"
    }
   },
   "outputs": [],
   "source": [
    "mdjt_returns = returns(\n",
    "    ['000333','600645'],\n",
    "    start=period_start,\n",
    "    end=period_end,\n",
    "    periods=2,\n",
    ")\n",
    "\n",
    "# Display first 10 rows\n",
    "mdjt_returns.tail(10)"
   ]
  },
  {
   "cell_type": "markdown",
   "metadata": {},
   "source": [
    "# 替代数据"
   ]
  },
  {
   "cell_type": "markdown",
   "metadata": {},
   "source": [
    "除定价和交易量数据外，Quantopian还整合了包括企业基本面，股票情绪分析和宏观经济指标等在内的大量替代数据集。您可以在Quantopian的数据页面找到50多个数据集的完整列表。\n",
    "\n",
    "我们在本教程中的目标是建立一个基于情绪数据选择和交易资产的算法，因此我们来看看PsychSignal的StockTwits Trader Mood数据集。 PsychSignal的数据集根据发布在股票交易平台Stocktwits上的消息的总体情绪，每天为股票分配牛熊分数。\n",
    "\n",
    "我们可以从stocktwits数据集中检查消息量和情绪得分（公牛减去熊）列。我们将使用Quantopian的Pipeline API查询数据，这是一个反复使用的功能强大的工具，用于访问和分析Research中的数据。您将在下一课和稍后的教程中了解更多有关Pipeline API的内容。现在，您只需要知道以下代码使用数据管道查询stocktwits并返回数据，并绘制AAPL的结果：\n",
    "\n",
    "**没有市场情绪得分，用股票评级数据替代演示**"
   ]
  },
  {
   "cell_type": "code",
   "execution_count": null,
   "metadata": {
    "ExecuteTime": {
     "end_time": "2018-07-01T21:33:32.896070Z",
     "start_time": "2018-07-01T21:33:30.719719Z"
    }
   },
   "outputs": [],
   "source": [
    "# Pipeline imports\n",
    "from zipline.research import run_pipeline\n",
    "from zipline.pipeline import Pipeline\n",
    "from zipline.pipeline.factors import Returns\n",
    "from zipline.pipeline.fundamentals import Fundamentals\n",
    "\n",
    "# Pipeline definition\n",
    "def make_pipeline():\n",
    "\n",
    "    returns = Returns(window_length=2)\n",
    "    rating = Fundamentals.rating.latest\n",
    "\n",
    "    return Pipeline(\n",
    "        columns={\n",
    "            'daily_returns': returns,\n",
    "            'rating': rating,\n",
    "        },\n",
    "    )\n",
    "\n",
    "# Pipeline execution\n",
    "data_output = run_pipeline(\n",
    "    make_pipeline(),\n",
    "    period_start,\n",
    "    period_end\n",
    ")\n",
    "\n",
    "data_output.tail()"
   ]
  },
  {
   "cell_type": "code",
   "execution_count": null,
   "metadata": {
    "ExecuteTime": {
     "end_time": "2018-07-01T21:36:08.720370Z",
     "start_time": "2018-07-01T21:36:08.263251Z"
    }
   },
   "outputs": [],
   "source": [
    "# 过滤出美的集团\n",
    "aapl_output = data_output.xs(\n",
    "    symbols('000333')[0],\n",
    "    level=1\n",
    ")\n",
    "\n",
    "# Plot results for AAPL\n",
    "aapl_output.plot(subplots=True,figsize=(12,8));"
   ]
  },
  {
   "cell_type": "markdown",
   "metadata": {},
   "source": [
    "在探索数据集时，尝试寻找可能成为交易策略基础的模式。 例如，上面的图表显示了日常回报和stocktwits消息量之间的一些匹配峰值，在某些情况下，回报峰值的方向与AAPL的情绪分数的方向相匹配。 这看起来很有趣，我们应该进行更严格的统计测试来确认我们的假设。\n",
    "在下一课中，我们将更深入地介绍Pipeline API。"
   ]
  }
 ],
 "metadata": {
  "kernelspec": {
   "display_name": "zipline",
   "language": "python",
   "name": "zipline"
  },
  "language_info": {
   "codemirror_mode": {
    "name": "ipython",
    "version": 3
   },
   "file_extension": ".py",
   "mimetype": "text/x-python",
   "name": "python",
   "nbconvert_exporter": "python",
   "pygments_lexer": "ipython3",
   "version": "3.7.1"
  },
  "toc": {
   "base_numbering": 1,
   "nav_menu": {},
   "number_sections": true,
   "sideBar": true,
   "skip_h1_title": false,
   "title_cell": "Table of Contents",
   "title_sidebar": "Contents",
   "toc_cell": false,
   "toc_position": {},
   "toc_section_display": true,
   "toc_window_display": true
  }
 },
 "nbformat": 4,
 "nbformat_minor": 2
}
