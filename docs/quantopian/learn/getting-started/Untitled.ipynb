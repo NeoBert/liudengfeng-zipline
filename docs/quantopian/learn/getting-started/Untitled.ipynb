{
 "cells": [
  {
   "cell_type": "code",
   "execution_count": null,
   "metadata": {
    "ExecuteTime": {
     "end_time": "2018-12-30T07:53:57.513762Z",
     "start_time": "2018-12-30T07:53:54.004489Z"
    }
   },
   "outputs": [],
   "source": [
    "%load_ext zipline"
   ]
  },
  {
   "cell_type": "code",
   "execution_count": null,
   "metadata": {
    "ExecuteTime": {
     "end_time": "2018-12-30T07:53:59.705587Z",
     "start_time": "2018-12-30T07:53:57.514378Z"
    }
   },
   "outputs": [],
   "source": [
    "%%zipline --start 2018-11-1 --end 2018-1-1 -o dma.pickle\n",
    "\n",
    "from zipline.pipeline.factors import Returns\n",
    "from zipline.pipeline import Pipeline\n",
    "from zipline.api import attach_pipeline, pipeline_output\n",
    "from zipline.pipeline.fundamentals.reader import Fundamentals\n",
    "from zipline.pipeline.data import USEquityPricing\n",
    "\n",
    "def make_pipeline():\n",
    "    recent_returns = Returns(\n",
    "        window_length=5, \n",
    "    )\n",
    "    \n",
    "    # Turn our recent_returns factor into a z-score factor to normalize the results.\n",
    "    recent_returns_zscore = recent_returns.zscore()\n",
    "    \n",
    "    pipe = Pipeline(\n",
    "        columns={\n",
    "            'recent_returns_zscore': recent_returns_zscore\n",
    "        },\n",
    "    )\n",
    "    return pipe\n",
    "\n",
    "def initialize(context):\n",
    "    attach_pipeline(make_pipeline(), 'example')\n",
    "\n",
    "def handle_data(context, data):\n",
    "    # Pipeline_output returns the constructed dataframe.\n",
    "    output = pipeline_output('example')\n",
    "\n",
    "    print(output.tail())"
   ]
  },
  {
   "cell_type": "code",
   "execution_count": null,
   "metadata": {
    "ExecuteTime": {
     "end_time": "2018-12-30T07:54:47.137681Z",
     "start_time": "2018-12-30T07:54:46.548263Z"
    }
   },
   "outputs": [],
   "source": [
    "%%zipline --start 2017-11-1 --end 2018-1-1 -o dma.pickle\n",
    "\n",
    "from zipline.pipeline import Pipeline\n",
    "from zipline.api import attach_pipeline, pipeline_output\n",
    "\n",
    "from zipline.pipeline.fundamentals.reader import Fundamentals\n",
    "\n",
    "def make_pipeline():\n",
    "    cap = Fundamentals.StockInfo.注册资本.latest\n",
    "\n",
    "    return Pipeline(\n",
    "        columns={\n",
    "            '注册资本': cap,\n",
    "        },\n",
    "    )\n",
    "\n",
    "def initialize(context):\n",
    "    attach_pipeline(make_pipeline(), 'example')\n",
    "\n",
    "def handle_data(context, data):\n",
    "    # Pipeline_output returns the constructed dataframe.\n",
    "    output = pipeline_output('example')\n",
    "\n",
    "    print(output.tail())"
   ]
  }
 ],
 "metadata": {
  "kernelspec": {
   "display_name": "zipline",
   "language": "python",
   "name": "zipline"
  },
  "language_info": {
   "codemirror_mode": {
    "name": "ipython",
    "version": 3
   },
   "file_extension": ".py",
   "mimetype": "text/x-python",
   "name": "python",
   "nbconvert_exporter": "python",
   "pygments_lexer": "ipython3",
   "version": "3.7.1"
  },
  "toc": {
   "base_numbering": 1,
   "nav_menu": {},
   "number_sections": true,
   "sideBar": true,
   "skip_h1_title": false,
   "title_cell": "Table of Contents",
   "title_sidebar": "Contents",
   "toc_cell": false,
   "toc_position": {},
   "toc_section_display": true,
   "toc_window_display": false
  }
 },
 "nbformat": 4,
 "nbformat_minor": 2
}
