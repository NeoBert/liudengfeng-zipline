{
 "metadata": {
  "language_info": {
   "codemirror_mode": {
    "name": "ipython",
    "version": 3
   },
   "file_extension": ".py",
   "mimetype": "text/x-python",
   "name": "python",
   "nbconvert_exporter": "python",
   "pygments_lexer": "ipython3",
   "version": "3.8.5-final"
  },
  "orig_nbformat": 2,
  "kernelspec": {
   "name": "python_defaultSpec_1599129231962",
   "display_name": "Python 3.8.5 64-bit ('zipline': conda)"
  }
 },
 "nbformat": 4,
 "nbformat_minor": 2,
 "cells": [
  {
   "cell_type": "markdown",
   "metadata": {},
   "source": [
    "将美股测试数据转换为A股日历"
   ]
  },
  {
   "cell_type": "code",
   "execution_count": 1,
   "metadata": {},
   "outputs": [],
   "source": [
    "import pandas as pd\n",
    "import os"
   ]
  },
  {
   "cell_type": "code",
   "execution_count": 2,
   "metadata": {},
   "outputs": [],
   "source": [
    "from cnswd.websource.wy import fetch_history"
   ]
  },
  {
   "cell_type": "code",
   "execution_count": 3,
   "metadata": {},
   "outputs": [],
   "source": [
    "symbol='000002' # A股指数时间时间跨度更大"
   ]
  },
  {
   "cell_type": "code",
   "execution_count": 4,
   "metadata": {},
   "outputs": [],
   "source": [
    "df = fetch_history(symbol,None,is_index=True)"
   ]
  },
  {
   "cell_type": "code",
   "execution_count": 5,
   "metadata": {},
   "outputs": [
    {
     "output_type": "execute_result",
     "data": {
      "text/plain": "               股票代码    名称       收盘价       最高价       最低价       开盘价       前收盘  \\\n日期                                                                            \n2006-12-29  '000002  Ａ股指数  2815.132  2839.917  2719.974  2719.974  2701.092   \n2006-12-28  '000002  Ａ股指数  2701.092  2747.635  2661.465  2670.614  2667.925   \n2006-12-27  '000002  Ａ股指数  2667.925  2670.335  2588.361  2606.428  2608.194   \n2006-12-26  '000002  Ａ股指数  2608.194  2635.678  2550.291  2563.857  2561.655   \n2006-12-25  '000002  Ａ股指数  2561.655  2579.227  2471.067  2471.067  2464.205   \n...             ...   ...       ...       ...       ...       ...       ...   \n2006-01-10  '000002  Ａ股指数  1282.410  1282.569  1264.742  1277.545  1277.394   \n2006-01-09  '000002  Ａ股指数  1277.394  1279.156  1266.678  1272.226  1271.298   \n2006-01-06  '000002  Ａ股指数  1271.298  1277.751  1252.686  1260.308  1258.710   \n2006-01-05  '000002  Ａ股指数  1258.710  1259.313  1241.324  1244.355  1241.893   \n2006-01-04  '000002  Ａ股指数  1241.893  1241.933  1221.802  1223.932  1220.929   \n\n                涨跌额     涨跌幅  换手率       成交量          成交金额  总市值  流通市值  成交笔数  \n日期                                                                         \n2006-12-29  114.040  4.2220  NaN  85905396  5.874779e+10  NaN   NaN   NaN  \n2006-12-28   33.167  1.2432  NaN  77699788  5.015006e+10  NaN   NaN   NaN  \n2006-12-27   59.731  2.2901  NaN  71232834  4.480340e+10  NaN   NaN   NaN  \n2006-12-26   46.539  1.8168  NaN  71582769  4.455146e+10  NaN   NaN   NaN  \n2006-12-25   97.450  3.9546  NaN  73306394  4.755404e+10  NaN   NaN   NaN  \n...             ...     ...  ...       ...           ...  ...   ...   ...  \n2006-01-10    5.016  0.3927  NaN  25948871  1.328760e+10  NaN   NaN   NaN  \n2006-01-09    6.096  0.4795  NaN  27900879  1.399938e+10  NaN   NaN   NaN  \n2006-01-06   12.588  1.0001  NaN  33672095  1.695015e+10  NaN   NaN   NaN  \n2006-01-05   16.817  1.3541  NaN  28954587  1.462010e+10  NaN   NaN   NaN  \n2006-01-04   20.964  1.7171  NaN  23009446  1.190075e+10  NaN   NaN   NaN  \n\n[241 rows x 15 columns]",
      "text/html": "<div>\n<style scoped>\n    .dataframe tbody tr th:only-of-type {\n        vertical-align: middle;\n    }\n\n    .dataframe tbody tr th {\n        vertical-align: top;\n    }\n\n    .dataframe thead th {\n        text-align: right;\n    }\n</style>\n<table border=\"1\" class=\"dataframe\">\n  <thead>\n    <tr style=\"text-align: right;\">\n      <th></th>\n      <th>股票代码</th>\n      <th>名称</th>\n      <th>收盘价</th>\n      <th>最高价</th>\n      <th>最低价</th>\n      <th>开盘价</th>\n      <th>前收盘</th>\n      <th>涨跌额</th>\n      <th>涨跌幅</th>\n      <th>换手率</th>\n      <th>成交量</th>\n      <th>成交金额</th>\n      <th>总市值</th>\n      <th>流通市值</th>\n      <th>成交笔数</th>\n    </tr>\n    <tr>\n      <th>日期</th>\n      <th></th>\n      <th></th>\n      <th></th>\n      <th></th>\n      <th></th>\n      <th></th>\n      <th></th>\n      <th></th>\n      <th></th>\n      <th></th>\n      <th></th>\n      <th></th>\n      <th></th>\n      <th></th>\n      <th></th>\n    </tr>\n  </thead>\n  <tbody>\n    <tr>\n      <th>2006-12-29</th>\n      <td>'000002</td>\n      <td>Ａ股指数</td>\n      <td>2815.132</td>\n      <td>2839.917</td>\n      <td>2719.974</td>\n      <td>2719.974</td>\n      <td>2701.092</td>\n      <td>114.040</td>\n      <td>4.2220</td>\n      <td>NaN</td>\n      <td>85905396</td>\n      <td>5.874779e+10</td>\n      <td>NaN</td>\n      <td>NaN</td>\n      <td>NaN</td>\n    </tr>\n    <tr>\n      <th>2006-12-28</th>\n      <td>'000002</td>\n      <td>Ａ股指数</td>\n      <td>2701.092</td>\n      <td>2747.635</td>\n      <td>2661.465</td>\n      <td>2670.614</td>\n      <td>2667.925</td>\n      <td>33.167</td>\n      <td>1.2432</td>\n      <td>NaN</td>\n      <td>77699788</td>\n      <td>5.015006e+10</td>\n      <td>NaN</td>\n      <td>NaN</td>\n      <td>NaN</td>\n    </tr>\n    <tr>\n      <th>2006-12-27</th>\n      <td>'000002</td>\n      <td>Ａ股指数</td>\n      <td>2667.925</td>\n      <td>2670.335</td>\n      <td>2588.361</td>\n      <td>2606.428</td>\n      <td>2608.194</td>\n      <td>59.731</td>\n      <td>2.2901</td>\n      <td>NaN</td>\n      <td>71232834</td>\n      <td>4.480340e+10</td>\n      <td>NaN</td>\n      <td>NaN</td>\n      <td>NaN</td>\n    </tr>\n    <tr>\n      <th>2006-12-26</th>\n      <td>'000002</td>\n      <td>Ａ股指数</td>\n      <td>2608.194</td>\n      <td>2635.678</td>\n      <td>2550.291</td>\n      <td>2563.857</td>\n      <td>2561.655</td>\n      <td>46.539</td>\n      <td>1.8168</td>\n      <td>NaN</td>\n      <td>71582769</td>\n      <td>4.455146e+10</td>\n      <td>NaN</td>\n      <td>NaN</td>\n      <td>NaN</td>\n    </tr>\n    <tr>\n      <th>2006-12-25</th>\n      <td>'000002</td>\n      <td>Ａ股指数</td>\n      <td>2561.655</td>\n      <td>2579.227</td>\n      <td>2471.067</td>\n      <td>2471.067</td>\n      <td>2464.205</td>\n      <td>97.450</td>\n      <td>3.9546</td>\n      <td>NaN</td>\n      <td>73306394</td>\n      <td>4.755404e+10</td>\n      <td>NaN</td>\n      <td>NaN</td>\n      <td>NaN</td>\n    </tr>\n    <tr>\n      <th>...</th>\n      <td>...</td>\n      <td>...</td>\n      <td>...</td>\n      <td>...</td>\n      <td>...</td>\n      <td>...</td>\n      <td>...</td>\n      <td>...</td>\n      <td>...</td>\n      <td>...</td>\n      <td>...</td>\n      <td>...</td>\n      <td>...</td>\n      <td>...</td>\n      <td>...</td>\n    </tr>\n    <tr>\n      <th>2006-01-10</th>\n      <td>'000002</td>\n      <td>Ａ股指数</td>\n      <td>1282.410</td>\n      <td>1282.569</td>\n      <td>1264.742</td>\n      <td>1277.545</td>\n      <td>1277.394</td>\n      <td>5.016</td>\n      <td>0.3927</td>\n      <td>NaN</td>\n      <td>25948871</td>\n      <td>1.328760e+10</td>\n      <td>NaN</td>\n      <td>NaN</td>\n      <td>NaN</td>\n    </tr>\n    <tr>\n      <th>2006-01-09</th>\n      <td>'000002</td>\n      <td>Ａ股指数</td>\n      <td>1277.394</td>\n      <td>1279.156</td>\n      <td>1266.678</td>\n      <td>1272.226</td>\n      <td>1271.298</td>\n      <td>6.096</td>\n      <td>0.4795</td>\n      <td>NaN</td>\n      <td>27900879</td>\n      <td>1.399938e+10</td>\n      <td>NaN</td>\n      <td>NaN</td>\n      <td>NaN</td>\n    </tr>\n    <tr>\n      <th>2006-01-06</th>\n      <td>'000002</td>\n      <td>Ａ股指数</td>\n      <td>1271.298</td>\n      <td>1277.751</td>\n      <td>1252.686</td>\n      <td>1260.308</td>\n      <td>1258.710</td>\n      <td>12.588</td>\n      <td>1.0001</td>\n      <td>NaN</td>\n      <td>33672095</td>\n      <td>1.695015e+10</td>\n      <td>NaN</td>\n      <td>NaN</td>\n      <td>NaN</td>\n    </tr>\n    <tr>\n      <th>2006-01-05</th>\n      <td>'000002</td>\n      <td>Ａ股指数</td>\n      <td>1258.710</td>\n      <td>1259.313</td>\n      <td>1241.324</td>\n      <td>1244.355</td>\n      <td>1241.893</td>\n      <td>16.817</td>\n      <td>1.3541</td>\n      <td>NaN</td>\n      <td>28954587</td>\n      <td>1.462010e+10</td>\n      <td>NaN</td>\n      <td>NaN</td>\n      <td>NaN</td>\n    </tr>\n    <tr>\n      <th>2006-01-04</th>\n      <td>'000002</td>\n      <td>Ａ股指数</td>\n      <td>1241.893</td>\n      <td>1241.933</td>\n      <td>1221.802</td>\n      <td>1223.932</td>\n      <td>1220.929</td>\n      <td>20.964</td>\n      <td>1.7171</td>\n      <td>NaN</td>\n      <td>23009446</td>\n      <td>1.190075e+10</td>\n      <td>NaN</td>\n      <td>NaN</td>\n      <td>NaN</td>\n    </tr>\n  </tbody>\n</table>\n<p>241 rows × 15 columns</p>\n</div>"
     },
     "metadata": {},
     "execution_count": 5
    }
   ],
   "source": [
    "# 2006 年 241个交易日\n",
    "df[df.index.year == 2006]"
   ]
  },
  {
   "cell_type": "code",
   "execution_count": 6,
   "metadata": {},
   "outputs": [],
   "source": [
    "df = df['涨跌幅']"
   ]
  },
  {
   "cell_type": "code",
   "execution_count": 7,
   "metadata": {},
   "outputs": [],
   "source": [
    "df.index.name = 'date'"
   ]
  },
  {
   "cell_type": "code",
   "execution_count": 8,
   "metadata": {},
   "outputs": [],
   "source": [
    "df.name = 'return'"
   ]
  },
  {
   "cell_type": "code",
   "execution_count": 9,
   "metadata": {},
   "outputs": [],
   "source": [
    "df.sort_index(inplace=True)"
   ]
  },
  {
   "cell_type": "code",
   "execution_count": 10,
   "metadata": {},
   "outputs": [],
   "source": [
    "df = df / 100.0"
   ]
  },
  {
   "cell_type": "code",
   "execution_count": 11,
   "metadata": {},
   "outputs": [
    {
     "output_type": "execute_result",
     "data": {
      "text/plain": "date\n1990-12-19 00:00:00+00:00         NaN\n1990-12-20 00:00:00+00:00    0.044109\n1990-12-21 00:00:00+00:00    0.045407\n1990-12-24 00:00:00+00:00    0.049666\n1990-12-25 00:00:00+00:00    0.049760\n                               ...   \n2020-08-27 00:00:00+00:00    0.006109\n2020-08-28 00:00:00+00:00    0.016058\n2020-08-31 00:00:00+00:00   -0.002411\n2020-09-01 00:00:00+00:00    0.004399\n2020-09-02 00:00:00+00:00   -0.001723\nName: return, Length: 7255, dtype: float64"
     },
     "metadata": {},
     "execution_count": 11
    }
   ],
   "source": [
    "df.tz_localize('UTC')"
   ]
  },
  {
   "cell_type": "code",
   "execution_count": 12,
   "metadata": {},
   "outputs": [],
   "source": [
    "STATIC_BENCHMARK_PATH = os.path.join(\n",
    "    'cn_stock',\n",
    "    'market_data',\n",
    "    f'{symbol}.csv',\n",
    ")"
   ]
  },
  {
   "cell_type": "code",
   "execution_count": 13,
   "metadata": {},
   "outputs": [],
   "source": [
    "df.tz_localize('UTC').to_csv(STATIC_BENCHMARK_PATH, index_label='date')"
   ]
  },
  {
   "cell_type": "code",
   "execution_count": null,
   "metadata": {},
   "outputs": [],
   "source": []
  }
 ]
}